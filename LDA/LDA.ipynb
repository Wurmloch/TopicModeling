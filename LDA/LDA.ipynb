{
 "cells": [
  {
   "cell_type": "markdown",
   "metadata": {},
   "source": [
    "# Latent Dirichlet Allocation LDA "
   ]
  },
  {
   "cell_type": "markdown",
   "metadata": {},
   "source": [
    "#### Wikifetcher\n",
    "Raw Text von Wikipedia mittels Suchbegriffen\n",
    "#### LDAbuilder\n",
    "Ausführen der LDA mit der gegebenen Dokumentliste (Rohtext-Liste von Wikifetcher)"
   ]
  },
  {
   "cell_type": "markdown",
   "metadata": {},
   "source": [
    "## Ausführung\n",
    "### Konfiguration \n",
    "- Wir benötigen Zugriff auf Wikipedia für den Rohtext\n",
    "- Natural Language Toolkit NLTK für die Tokenisierung und Stemming\n",
    "- Stop_words, um nichtssagende Wörter zu entfernen\n",
    "- Gensim für die Implementierung der Latent Dirichlet Allocation LDA"
   ]
  },
  {
   "cell_type": "code",
   "execution_count": 1,
   "metadata": {
    "collapsed": true
   },
   "outputs": [],
   "source": [
    "import wikipedia\n",
    "from nltk.tokenize import RegexpTokenizer\n",
    "from stop_words import get_stop_words\n",
    "from nltk.stem.porter import PorterStemmer\n",
    "import re\n",
    "import warnings\n",
    "warnings.filterwarnings(action='ignore', category=UserWarning, module='gensim')\n",
    "from gensim import corpora, models\n",
    "\n",
    "sentence_pat = re.compile(r'([A-Z][^\\.!?]*[\\.!?])', re.M)\n",
    "tokenizer = RegexpTokenizer(r'\\w+')\n",
    "\n",
    "# Erzeuge englische stop words Liste\n",
    "en_stop = get_stop_words('en')\n",
    "# Erzeuge p_stemmer der Klasse PorterStemmer\n",
    "p_stemmer = PorterStemmer()\n",
    "\n",
    "doc_list = []\n",
    "wikipedia.set_lang('en')"
   ]
  },
  {
   "cell_type": "markdown",
   "metadata": {},
   "source": [
    "### Wikipedia Content\n",
    "Mittels Suchbegriffen holen wir den Rohen Inhalt aus Wikipedia.\n",
    "Danach wird der Inhalt in Sätze getrennt, welche zur Dokumentliste hinzugefügt werden."
   ]
  },
  {
   "cell_type": "code",
   "execution_count": 2,
   "metadata": {},
   "outputs": [
    {
     "name": "stdout",
     "output_type": "stream",
     "text": [
      "Stuttgart ( SHTUUT-gart; German: [ˈʃtʊtɡaʁt] ( listen); Swabian: Schduagert, pronounced [ˈʒ̊d̥ua̯ɡ̊ɛʕd̥]; names in other languages) is the capital and largest city of the German state of Baden-Württemberg.\n",
      "Stuttgart is located on the Neckar river in a fertile valley locally known as the \"Stuttgart Cauldron\" an hour from the Swabian Jura and the Black Forest, and its urban area has a population of 609,219, making it the sixth largest city in Germany. 2.7 million people live in the city's administrative region and another 5.3 million people in its metropolitan area, making it the fourth largest metropolitan area in Germany.\n",
      "The city and metropolitan area are consistently ranked among the top 20 European metropolitan areas by GDP; Mercer listed Stuttgart as 21st on its 2015 list of cities by quality of living, innovation agency 2thinknow ranked the city 24th globally out of 442 cities  and the Globalization and World Cities Research Network ranked the city as a Beta-status world city in their 2014 survey.\n",
      "Since the 6th millennium BC, the Stuttgart area has been an important agricultural area and has been host to a number of cultures seeking to utilize the rich soil of the Neckar valley. The Roman Empire conquered the area in 83 AD and built a massive castrum near Bad Cannstatt, making it the most important regional center for several centuries. Stuttgart's roots were truly laid in the 10th century with its founding by Liudolf, Duke of Swabia, as a stud farm for his warhorses. Ov...\n"
     ]
    }
   ],
   "source": [
    "def get_page(name):\n",
    "    first_found = wikipedia.search(name)[0]\n",
    "    try:\n",
    "        return(wikipedia.page(first_found).content)\n",
    "    except wikipedia.exceptions.DisambiguationError as e:\n",
    "        return(wikipedia.page(e.options[0]).content)\n",
    "    \n",
    "search_terms = ['Stuttgart']\n",
    "separator = '== References =='\n",
    "for term in search_terms:\n",
    "    full_content = get_page(term).split(separator, 1)[0]\n",
    "    sentence_list = sentence_pat.findall(full_content)\n",
    "    for sentence in sentence_list:\n",
    "        doc_list.append(sentence)\n",
    "\n",
    "    print(full_content[0:1500] + '...')"
   ]
  },
  {
   "cell_type": "markdown",
   "metadata": {},
   "source": [
    "### Vorverarbeitung\n",
    "Der Text wird nun Tokenisiert, gestemt, nutzlose Wörter werden entfernt"
   ]
  },
  {
   "cell_type": "code",
   "execution_count": 3,
   "metadata": {
    "collapsed": true
   },
   "outputs": [],
   "source": [
    "num_topics = 4\n",
    "num_words_per_topic = 15\n",
    "texts = []"
   ]
  },
  {
   "cell_type": "code",
   "execution_count": 4,
   "metadata": {},
   "outputs": [
    {
     "name": "stdout",
     "output_type": "stream",
     "text": [
      "0      [stuttgart, shtuut, gart, german, ˈʃtʊtɡaʁt, l...\n",
      "1      [stuttgart, located, neckar, river, fertile, v...\n",
      "2                                              [germany]\n",
      "3      [city, metropolitan, area, consistently, ranke...\n",
      "4      [since, 6th, millennium, bc, stuttgart, area, ...\n",
      "5      [roman, empire, conquered, area, 83, ad, built...\n",
      "6      [stuttgart, s, roots, truly, laid, 10th, centu...\n",
      "7      [overshadowed, nearby, cannstatt, town, grew, ...\n",
      "8      [fortunes, stuttgart, turned, house, württembe...\n",
      "9      [stuttgart, prospered, despite, setbacks, thir...\n",
      "10     [however, 1952, city, bounced, back, became, m...\n",
      "11     [stuttgart, also, transport, junction, possess...\n",
      "12          [stuttgart, unusual, scheme, german, cities]\n",
      "13     [spread, across, variety, hills, covered, vine...\n",
      "14     [often, source, surprise, visitors, associate,...\n",
      "15         [city, s, tourism, slogan, stuttgart, offers]\n",
      "16     [current, plans, improve, transport, links, in...\n",
      "17        [business, describes, business, meets, future]\n",
      "18     [july, 2010, stuttgart, unveiled, new, city, l...\n",
      "19           [stuttgart, city, high, number, immigrants]\n",
      "20     [according, dorling, kindersley, s, eyewitness...\n",
      "21     [stuttgart, s, residents, 64, population, age,...\n",
      "22     [name, stuttgart, often, nicknamed, schwabenme...\n",
      "23     [history, antiquity, originally, important, lo...\n",
      "24     [thus, first, settlement, stuttgart, massive, ...\n",
      "25     [ad, protect, villas, vineyards, blanketing, l...\n",
      "26     [many, military, installations, settlement, sp...\n",
      "27     [town, left, capable, hands, local, brickworks...\n",
      "28     [romans, driven, back, past, rhine, danube, ri...\n",
      "29     [middle, ages, 700, duke, gotfrid, mentions, c...\n",
      "                             ...                        \n",
      "494    [currently, play, regionalliga, südwest, fourt...\n",
      "495    [lower, division, football, teams, sportfreund...\n",
      "496    [sports, stuttgart, home, vfl, pfullingen, stu...\n",
      "497    [three, times, german, champion, women, s, vol...\n",
      "498          [stuttgart, two, major, ice, hockey, teams]\n",
      "499    [stuttgart, rebels, ec, plays, landesliga, 4th...\n",
      "500    [bietigheim, bissingen, steelers, play, 2nd, d...\n",
      "501    [steelers, play, new, ege, trans, arena, bieti...\n",
      "502    [strongest, local, water, polo, team, sv, cann...\n",
      "503    [stuttgart, two, american, football, teams, st...\n",
      "504    [australian, football, practiced, stuttgart, e...\n",
      "505    [participates, australian, football, league, g...\n",
      "506    [another, women, s, team, tec, waldau, stuttga...\n",
      "507    [htc, stuttgarter, kickers, one, successful, f...\n",
      "508    [sporting, events, stuttgart, reputation, stag...\n",
      "509    [also, one, twelve, host, cities, fifa, world,...\n",
      "510    [six, matches, three, second, round, matches, ...\n",
      "511    [stuttgart, also, 2007, european, capital, spo...\n",
      "512    [famous, sports, venues, weissenhof, tennis, c...\n",
      "513                               [scharrena, stuttgart]\n",
      "514    [international, relations, twin, towns, sister...\n",
      "515    [notable, residents, popular, culture, gaming,...\n",
      "516    [first, chinese, mission, player, must, reclai...\n",
      "517    [medic, valve, s, 2007, first, person, shooter...\n",
      "518    [2008, episodic, adventure, game, sam, max, be...\n",
      "519    [reinhardt, one, tank, classes, blizzard, s, 2...\n",
      "520    [furthermore, game, also, features, map, eiche...\n",
      "521    [novels, 2005, novel, book, thief, protagonist...\n",
      "522    [tv, cinema, 2012, film, avengers, villain, lo...\n",
      "523    [scenes, actually, filmed, cleveland, ohio, nu...\n",
      "Length: 524, dtype: object\n"
     ]
    }
   ],
   "source": [
    "import pandas as pd\n",
    "\n",
    "for doc in doc_list:\n",
    "    raw = doc.lower()\n",
    "    # Erzeuge tokens\n",
    "    tokens = tokenizer.tokenize(raw)\n",
    "    # Entferne unnütze Information\n",
    "    stopped_tokens = [i for i in tokens if not i in en_stop]\n",
    "    # Stemme tokens - Entfernung von Duplikaten und Transformation zu Grundform (Optional)\n",
    "    # stemmed_tokens = [p_stemmer.stem(i) for i in stopped_tokens]\n",
    "    texts.append(stopped_tokens)\n",
    "output_preprocessed = pd.Series(texts)\n",
    "print(output_preprocessed)"
   ]
  },
  {
   "cell_type": "markdown",
   "metadata": {},
   "source": [
    "### Dictionary und Vektoren\n",
    "In diesem Abschnitt wird nun der Bag-of-words Korpus erstellt. Die Vektoren werden später für das LDA-Modell benötigt"
   ]
  },
  {
   "cell_type": "code",
   "execution_count": 5,
   "metadata": {},
   "outputs": [
    {
     "name": "stdout",
     "output_type": "stream",
     "text": [
      "0      [(0, 1), (1, 1), (2, 1), (3, 2), (4, 1), (5, 1...\n",
      "1      [(0, 2), (6, 1), (17, 1), (18, 1), (22, 1), (2...\n",
      "2                                              [(41, 1)]\n",
      "3      [(0, 1), (18, 4), (35, 1), (42, 2), (43, 1), (...\n",
      "4      [(0, 1), (23, 1), (26, 1), (35, 2), (73, 1), (...\n",
      "5      [(35, 1), (39, 1), (77, 1), (86, 1), (87, 1), ...\n",
      "6      [(0, 1), (101, 1), (102, 1), (103, 1), (104, 1...\n",
      "7      [(96, 1), (114, 1), (115, 1), (116, 1), (117, ...\n",
      "8      [(0, 1), (16, 1), (21, 1), (106, 1), (122, 1),...\n",
      "9      [(0, 1), (18, 1), (131, 1), (132, 1), (133, 1)...\n",
      "10     [(18, 1), (98, 1), (143, 1), (144, 1), (145, 1...\n",
      "11     [(0, 1), (17, 1), (40, 1), (41, 1), (154, 1), ...\n",
      "12         [(0, 1), (3, 1), (56, 1), (169, 1), (170, 1)]\n",
      "13     [(0, 1), (23, 1), (24, 1), (171, 1), (172, 1),...\n",
      "14     [(18, 1), (141, 1), (182, 1), (183, 1), (184, ...\n",
      "15     [(0, 1), (18, 1), (101, 1), (151, 1), (189, 1)...\n",
      "16     [(0, 1), (18, 1), (155, 1), (189, 1), (191, 1)...\n",
      "17              [(212, 2), (213, 1), (214, 1), (215, 1)]\n",
      "18     [(0, 1), (18, 2), (35, 1), (200, 1), (201, 1),...\n",
      "19        [(0, 1), (18, 1), (80, 1), (224, 1), (225, 1)]\n",
      "20     [(0, 1), (18, 1), (41, 1), (101, 1), (226, 1),...\n",
      "21     [(0, 1), (36, 1), (101, 1), (236, 1), (237, 1)...\n",
      "22     [(0, 1), (3, 1), (6, 1), (18, 1), (90, 1), (98...\n",
      "23     [(0, 1), (23, 1), (24, 1), (26, 1), (77, 1), (...\n",
      "24     [(0, 1), (86, 1), (91, 1), (92, 1), (93, 1), (...\n",
      "25     [(90, 1), (176, 1), (272, 1), (273, 1), (274, ...\n",
      "26     [(115, 1), (268, 1), (282, 1), (283, 1), (284,...\n",
      "27     [(116, 1), (249, 1), (291, 1), (292, 1), (293,...\n",
      "28     [(106, 2), (146, 1), (261, 1), (268, 1), (300,...\n",
      "29     [(109, 1), (311, 1), (312, 1), (313, 1), (314,...\n",
      "                             ...                        \n",
      "494    [(955, 1), (1312, 1), (1706, 1), (1951, 1), (2...\n",
      "495    [(0, 1), (66, 1), (197, 1), (267, 1), (1050, 1...\n",
      "496    [(0, 2), (249, 1), (538, 1), (616, 1), (980, 1...\n",
      "497    [(0, 1), (3, 1), (101, 2), (616, 1), (1159, 2)...\n",
      "498    [(0, 1), (148, 1), (700, 1), (2945, 1), (2965,...\n",
      "499    [(0, 1), (2858, 1), (2965, 1), (2967, 1), (296...\n",
      "500    [(955, 1), (1312, 1), (1327, 1), (2975, 1), (2...\n",
      "501    [(201, 1), (955, 1), (1587, 1), (2975, 1), (29...\n",
      "502    [(3, 1), (96, 1), (249, 1), (726, 1), (1159, 1...\n",
      "503    [(0, 3), (211, 1), (616, 1), (700, 1), (767, 1...\n",
      "504    [(0, 1), (41, 1), (543, 1), (1474, 1), (2187, ...\n",
      "505    [(0, 1), (3, 1), (41, 1), (101, 1), (391, 1), ...\n",
      "506    [(0, 1), (3, 1), (101, 1), (770, 1), (1159, 1)...\n",
      "507    [(3, 1), (41, 1), (48, 1), (387, 1), (543, 1),...\n",
      "508    [(0, 1), (66, 2), (148, 1), (187, 1), (900, 1)...\n",
      "509    [(56, 1), (66, 1), (79, 1), (154, 1), (543, 1)...\n",
      "510    [(153, 1), (162, 1), (163, 1), (164, 1), (306,...\n",
      "511    [(0, 1), (16, 1), (48, 1), (66, 2), (154, 1), ...\n",
      "512    [(160, 1), (162, 1), (1571, 1), (1587, 1), (18...\n",
      "513                                  [(0, 1), (3027, 1)]\n",
      "514    [(0, 2), (17, 2), (18, 1), (56, 3), (95, 1), (...\n",
      "515    [(0, 1), (30, 1), (236, 1), (769, 1), (972, 1)...\n",
      "516    [(18, 1), (267, 1), (1596, 1), (3044, 1), (304...\n",
      "517    [(0, 1), (23, 1), (101, 1), (252, 1), (267, 1)...\n",
      "518    [(0, 1), (204, 1), (230, 1), (387, 1), (403, 2...\n",
      "519    [(0, 1), (101, 1), (543, 1), (1137, 1), (1159,...\n",
      "520    [(18, 1), (94, 1), (116, 1), (154, 1), (397, 1...\n",
      "521    [(0, 1), (324, 1), (1553, 1), (2120, 1), (2350...\n",
      "522    [(0, 1), (1622, 1), (1708, 1), (2024, 1), (307...\n",
      "523    [(0, 1), (18, 1), (80, 1), (101, 1), (236, 1),...\n",
      "Length: 524, dtype: object\n"
     ]
    }
   ],
   "source": [
    "# Erzeuge ein dictionary\n",
    "dictionary = corpora.Dictionary(texts)\n",
    "# Konvertiere dictionary in Bag-of-Words\n",
    "# corpus ist eine Liste von Vektoren - Jeder Dokument-Vektor ist eine Serie von Tupeln\n",
    "corpus = [dictionary.doc2bow(text) for text in texts]\n",
    "\n",
    "output_vectors = pd.Series(corpus)\n",
    "print(output_vectors)"
   ]
  },
  {
   "cell_type": "markdown",
   "metadata": {},
   "source": [
    "### LDA-Modell\n",
    "Schließlich kann das LDA-Modell angewandt werden. Die Übergabeparameter dafür sind die Liste der Vektoren, die Anzahl der Themen, das Dictionary, sowie die Aktualisierungsrate.\n",
    "In der Trainingsphase sollte eine höhere Aktualisierungsrate >= 20 gewählt werden."
   ]
  },
  {
   "cell_type": "code",
   "execution_count": 6,
   "metadata": {},
   "outputs": [
    {
     "name": "stdout",
     "output_type": "stream",
     "text": [
      "0\n",
      "0.025*\"city\" + 0.018*\"stuttgart\" + 0.012*\"württemberg\" + 0.009*\"war\" + 0.006*\"s\" + 0.005*\"today\" + 0.004*\"000\" + 0.004*\"around\" + 0.004*\"first\" + 0.004*\"eberhard\" + 0.004*\"1\" + 0.003*\"army\" + 0.003*\"french\" + 0.003*\"number\" + 0.003*\"result\"\n",
      "1\n",
      "0.024*\"stuttgart\" + 0.016*\"s\" + 0.015*\"city\" + 0.009*\"germany\" + 0.006*\"german\" + 0.005*\"one\" + 0.004*\"world\" + 0.004*\"many\" + 0.004*\"area\" + 0.004*\"castle\" + 0.003*\"neckar\" + 0.003*\"population\" + 0.003*\"built\" + 0.003*\"history\" + 0.003*\"airport\"\n",
      "2\n",
      "0.019*\"stuttgart\" + 0.009*\"also\" + 0.004*\"university\" + 0.004*\"city\" + 0.004*\"germany\" + 0.004*\"cannstatt\" + 0.004*\"local\" + 0.004*\"old\" + 0.004*\"castle\" + 0.004*\"church\" + 0.003*\"württemberg\" + 0.003*\"since\" + 0.003*\"division\" + 0.003*\"time\" + 0.003*\"area\"\n",
      "3\n",
      "0.042*\"stuttgart\" + 0.009*\"württemberg\" + 0.008*\"city\" + 0.008*\"s\" + 0.008*\"state\" + 0.007*\"baden\" + 0.007*\"german\" + 0.005*\"also\" + 0.004*\"center\" + 0.004*\"world\" + 0.004*\"capital\" + 0.004*\"germany\" + 0.004*\"one\" + 0.004*\"cities\" + 0.004*\"university\"\n"
     ]
    }
   ],
   "source": [
    "# Wende LDA-Modell an\n",
    "ldamodel = models.ldamodel.LdaModel(corpus, num_topics=num_topics, id2word = dictionary, passes=20)\n",
    "lda = ldamodel.print_topics(num_topics=num_topics, num_words=num_words_per_topic)\n",
    "    \n",
    "for topic in lda:\n",
    "    for entry in topic:\n",
    "        print(entry)"
   ]
  }
 ],
 "metadata": {
  "kernelspec": {
   "display_name": "Python 3",
   "language": "python",
   "name": "python3"
  },
  "language_info": {
   "codemirror_mode": {
    "name": "ipython",
    "version": 3
   },
   "file_extension": ".py",
   "mimetype": "text/x-python",
   "name": "python",
   "nbconvert_exporter": "python",
   "pygments_lexer": "ipython3",
   "version": "3.6.3"
  }
 },
 "nbformat": 4,
 "nbformat_minor": 2
}
