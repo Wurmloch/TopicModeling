{
 "cells": [
  {
   "cell_type": "markdown",
   "metadata": {},
   "source": [
    "# Latent Dirichlet Allocation LDA "
   ]
  },
  {
   "cell_type": "markdown",
   "metadata": {},
   "source": [
    "#### Wikifetcher\n",
    "Raw Text von Wikipedia mittels Suchbegriffen\n",
    "#### LDAbuilder\n",
    "Ausführen der LDA mit der gegebenen Dokumentliste (Rohtext-Liste von Wikifetcher)"
   ]
  },
  {
   "cell_type": "markdown",
   "metadata": {},
   "source": [
    "## Ausführung\n",
    "### Konfiguration \n",
    "- Wir benötigen Zugriff auf Wikipedia für den Rohtext\n",
    "- Natural Language Toolkit NLTK für die Tokenisierung und Stemming\n",
    "- Stop_words, um nichtssagende Wörter zu entfernen\n",
    "- Gensim für die Implementierung der Latent Dirichlet Allocation LDA"
   ]
  },
  {
   "cell_type": "code",
   "execution_count": 1,
   "metadata": {
    "collapsed": true
   },
   "outputs": [],
   "source": [
    "import wikipedia\n",
    "from nltk.tokenize import RegexpTokenizer\n",
    "from stop_words import get_stop_words\n",
    "from nltk.stem.porter import PorterStemmer\n",
    "import re\n",
    "import warnings\n",
    "warnings.filterwarnings(action='ignore', category=UserWarning, module='gensim')\n",
    "from gensim import corpora, models\n",
    "\n",
    "sentence_pat = re.compile(r'([A-Z][^\\.!?]*[\\.!?])', re.M)\n",
    "tokenizer = RegexpTokenizer(r'\\w+')\n",
    "\n",
    "# Erzeuge englische stop words Liste\n",
    "en_stop = get_stop_words('en')\n",
    "# Erzeuge p_stemmer der Klasse PorterStemmer\n",
    "p_stemmer = PorterStemmer()\n",
    "\n",
    "doc_list = []\n",
    "wikipedia.set_lang('en')"
   ]
  },
  {
   "cell_type": "markdown",
   "metadata": {},
   "source": [
    "### Wikipedia Content\n",
    "Mittels Suchbegriffen holen wir den Rohen Inhalt aus Wikipedia.\n",
    "Danach wird der Inhalt in Sätze getrennt, welche zur Dokumentliste hinzugefügt werden."
   ]
  },
  {
   "cell_type": "code",
   "execution_count": 2,
   "metadata": {},
   "outputs": [
    {
     "name": "stdout",
     "output_type": "stream",
     "text": [
      "Stuttgart ( SHTUUT-gart; German: [ˈʃtʊtɡaʁt] ( listen); Swabian: Schduagert, pronounced [ˈʒ̊d̥ua̯ɡ̊ɛʕd̥]; names in other languages) is the capital and largest city of the German state of Baden-Württemberg.\n",
      "Stuttgart is located on the Neckar river in a fertile valley locally known as the \"Stuttgart Cauldron\" an hour from the Swabian Jura and the Black Forest, and its urban area has a population of 609,219, making it the sixth largest city in Germany. 2.7 million people live in the city's administrative region and another 5.3 million people in its metropolitan area, making it the fourth largest metropolitan area in Germany.\n",
      "The city and metropolitan area are consistently ranked among the top 20 European metropolitan areas by GDP; Mercer listed Stuttgart as 21st on its 2015 list of cities by quality of living, innovation agency 2thinknow ranked the city 24th globally out of 442 cities  and the Globalization and World Cities Research Network ranked the city as a Beta-status world city in their 2014 survey.\n",
      "Since the 6th millennium BC, the Stuttgart area has been an important agricultural area and has been host to a number of cultures seeking to utilize the rich soil of the Neckar valley. The Roman Empire conquered the area in 83 AD and built a massive castrum near Bad Cannstatt, making it the most important regional center for several centuries. Stuttgart's roots were truly laid in the 10th century with its founding by Liudolf, Duke of Swabia, as a stud farm for his warhorses. Ov...\n",
      "A master's degree (from Latin magister) is usually a second-cycle academic degree awarded by universities or colleges upon completion of a course of study demonstrating mastery or a high-order overview of a specific field of study or area of professional practice. A master's degree normally requires previous study at the bachelor's level, either as a separate degree or as part of an integrated course. Within the area studied, master's graduates are expected to possess advanced knowledge of a specialized body of theoretical and applied topics; high order skills in analysis, critical evaluation, or professional application; and the ability to solve complex problems and think rigorously and independently.\n",
      "\n",
      "\n",
      "== Historical development ==\n",
      "\n",
      "\n",
      "=== Medieval era to 18th century ===\n",
      "The master's degree dates back to the origin of European universities, with a Papal bull of 1233 decreeing that anyone admitted to the mastership in the University of Toulouse should be allowed to teach freely in any other university. The original meaning of the master's degree was thus that someone who had been admitted to the rank (degree) of master (i.e. teacher) in one university should be admitted to the same rank in other universities. This gradually became formalised as the licentia docendi (licence to teach). Originally, masters and doctors were not distinguished, but by the 15th century it had become customary in the English universities to refer to the teachers in the lower faculties (arts and gramm...\n",
      "A university (Latin: universitas, \"a whole\") is an institution of higher (or tertiary) education and research which awards academic degrees in various academic disciplines. Universities typically provide undergraduate education and postgraduate education.\n",
      "The word \"university\" is derived from the Latin universitas magistrorum et scholarium, which roughly means \"community of teachers and scholars.\" While antecedents had existed in Asia and Africa, the modern university system has roots in the European medieval university, which was created in Italy and evolved from Christian Cathedral schools for the clergy during the High Middle Ages.\n",
      "\n",
      "\n",
      "== History ==\n",
      "\n",
      "\n",
      "=== Definition ===\n",
      "The original Latin word \"universitas\" refers in general to \"a number of persons associated into one body, a society, company, community, guild, corporation, etc.\" At the time of the emergence of urban town life and medieval guilds, specialized \"associations of students and teachers with collective legal rights usually guaranteed by charters issued by princes, prelates, or the towns in which they were located\" came to be denominated by this general term. Like other guilds, they were self-regulating and determined the qualifications of their members.\n",
      "In modern usage the word has come to mean \"An institution of higher education offering tuition in mainly non-vocational subjects and typically having the power to confer degrees,\" with the earlier emphasis on its corporate organization considered as applying histor...\n"
     ]
    }
   ],
   "source": [
    "def get_page(name):\n",
    "    first_found = wikipedia.search(name)[0]\n",
    "    try:\n",
    "        return(wikipedia.page(first_found).content)\n",
    "    except wikipedia.exceptions.DisambiguationError as e:\n",
    "        return(wikipedia.page(e.options[0]).content)\n",
    "    \n",
    "search_terms = ['Stuttgart', 'Masters degree', 'University']\n",
    "separator = '== References =='\n",
    "for term in search_terms:\n",
    "    full_content = get_page(term).split(separator, 1)[0]\n",
    "    # sentence_list = sentence_pat.findall(full_content)\n",
    "    #for sentence in sentence_list:\n",
    "    doc_list.append(full_content)\n",
    "\n",
    "    print(full_content[0:1500] + '...')"
   ]
  },
  {
   "cell_type": "markdown",
   "metadata": {},
   "source": [
    "### Vorverarbeitung\n",
    "Der Text wird nun Tokenisiert, gestemt, nutzlose Wörter werden entfernt"
   ]
  },
  {
   "cell_type": "code",
   "execution_count": 3,
   "metadata": {
    "collapsed": true
   },
   "outputs": [],
   "source": [
    "num_topics = 5\n",
    "num_words_per_topic = 20\n",
    "texts = []"
   ]
  },
  {
   "cell_type": "code",
   "execution_count": 4,
   "metadata": {},
   "outputs": [
    {
     "name": "stdout",
     "output_type": "stream",
     "text": [
      "0    [stuttgart, shtuut, gart, german, ˈʃtʊtɡaʁt, l...\n",
      "1    [master, s, degree, latin, magister, usually, ...\n",
      "2    [university, latin, universitas, whole, instit...\n",
      "dtype: object\n"
     ]
    }
   ],
   "source": [
    "import pandas as pd\n",
    "\n",
    "for doc in doc_list:\n",
    "    raw = doc.lower()\n",
    "    # Erzeuge tokens\n",
    "    tokens = tokenizer.tokenize(raw)\n",
    "    # Entferne unnütze Information\n",
    "    stopped_tokens = [i for i in tokens if not i in en_stop]\n",
    "    # Stemme tokens - Entfernung von Duplikaten und Transformation zu Grundform (Optional)\n",
    "    # stemmed_tokens = [p_stemmer.stem(i) for i in stopped_tokens]\n",
    "    texts.append(stopped_tokens)\n",
    "output_preprocessed = pd.Series(texts)\n",
    "print(output_preprocessed)"
   ]
  },
  {
   "cell_type": "markdown",
   "metadata": {},
   "source": [
    "### Dictionary und Vektoren\n",
    "In diesem Abschnitt wird nun der Bag-of-words Korpus erstellt. Die Vektoren werden später für das LDA-Modell benötigt"
   ]
  },
  {
   "cell_type": "code",
   "execution_count": 5,
   "metadata": {},
   "outputs": [
    {
     "name": "stdout",
     "output_type": "stream",
     "text": [
      "0    [(0, 299), (1, 1), (2, 1), (3, 45), (4, 1), (5...\n",
      "1    [(3, 1), (10, 11), (14, 1), (19, 1), (28, 1), ...\n",
      "2    [(3, 7), (15, 1), (18, 3), (19, 15), (22, 1), ...\n",
      "dtype: object\n"
     ]
    }
   ],
   "source": [
    "# Erzeuge ein dictionary\n",
    "dictionary = corpora.Dictionary(texts)\n",
    "# Konvertiere dictionary in Bag-of-Words\n",
    "# corpus ist eine Liste von Vektoren - Jeder Dokument-Vektor ist eine Serie von Tupeln\n",
    "corpus = [dictionary.doc2bow(text) for text in texts]\n",
    "\n",
    "output_vectors = pd.Series(corpus)\n",
    "print(output_vectors)"
   ]
  },
  {
   "cell_type": "markdown",
   "metadata": {},
   "source": [
    "### LDA-Modell\n",
    "Schließlich kann das LDA-Modell angewandt werden. Die Übergabeparameter dafür sind die Liste der Vektoren, die Anzahl der Themen, das Dictionary, sowie die Aktualisierungsrate.\n",
    "In der Trainingsphase sollte eine höhere Aktualisierungsrate >= 20 gewählt werden."
   ]
  },
  {
   "cell_type": "code",
   "execution_count": 6,
   "metadata": {},
   "outputs": [
    {
     "name": "stdout",
     "output_type": "stream",
     "text": [
      "0\n",
      "0.000*\"s\" + 0.000*\"stuttgart\" + 0.000*\"city\" + 0.000*\"master\" + 0.000*\"universities\" + 0.000*\"university\" + 0.000*\"degrees\" + 0.000*\"degree\" + 0.000*\"württemberg\" + 0.000*\"also\" + 0.000*\"research\" + 0.000*\"m\" + 0.000*\"first\" + 0.000*\"germany\" + 0.000*\"world\" + 0.000*\"year\" + 0.000*\"higher\" + 0.000*\"century\" + 0.000*\"years\" + 0.000*\"since\"\n",
      "1\n",
      "0.034*\"stuttgart\" + 0.015*\"city\" + 0.010*\"s\" + 0.008*\"württemberg\" + 0.006*\"germany\" + 0.005*\"also\" + 0.005*\"german\" + 0.004*\"area\" + 0.004*\"war\" + 0.004*\"state\" + 0.004*\"world\" + 0.003*\"baden\" + 0.003*\"one\" + 0.003*\"castle\" + 0.003*\"since\" + 0.003*\"first\" + 0.003*\"center\" + 0.003*\"year\" + 0.003*\"many\" + 0.003*\"000\"\n",
      "2\n",
      "0.026*\"university\" + 0.026*\"universities\" + 0.007*\"education\" + 0.005*\"higher\" + 0.005*\"also\" + 0.004*\"european\" + 0.004*\"new\" + 0.004*\"europe\" + 0.004*\"students\" + 0.004*\"research\" + 0.004*\"century\" + 0.004*\"state\" + 0.004*\"scholars\" + 0.004*\"many\" + 0.003*\"knowledge\" + 0.003*\"institution\" + 0.003*\"countries\" + 0.003*\"texts\" + 0.003*\"early\" + 0.003*\"modern\"\n",
      "3\n",
      "0.000*\"s\" + 0.000*\"master\" + 0.000*\"degree\" + 0.000*\"degrees\" + 0.000*\"m\" + 0.000*\"university\" + 0.000*\"stuttgart\" + 0.000*\"years\" + 0.000*\"research\" + 0.000*\"universities\" + 0.000*\"bachelor\" + 0.000*\"also\" + 0.000*\"arts\" + 0.000*\"study\" + 0.000*\"ma\" + 0.000*\"year\" + 0.000*\"two\" + 0.000*\"first\" + 0.000*\"city\" + 0.000*\"students\"\n",
      "4\n",
      "0.045*\"master\" + 0.035*\"s\" + 0.028*\"degree\" + 0.021*\"degrees\" + 0.016*\"m\" + 0.008*\"years\" + 0.008*\"university\" + 0.008*\"research\" + 0.007*\"bachelor\" + 0.007*\"ma\" + 0.006*\"study\" + 0.006*\"universities\" + 0.006*\"science\" + 0.006*\"year\" + 0.005*\"two\" + 0.005*\"awarded\" + 0.005*\"arts\" + 0.005*\"education\" + 0.004*\"first\" + 0.004*\"may\"\n"
     ]
    }
   ],
   "source": [
    "# Wende LDA-Modell an\n",
    "ldamodel = models.ldamodel.LdaModel(corpus, num_topics=num_topics, id2word = dictionary, passes=20)\n",
    "lda = ldamodel.print_topics(num_topics=num_topics, num_words=num_words_per_topic)\n",
    "    \n",
    "for topic in lda:\n",
    "    for entry in topic:\n",
    "        print(entry)"
   ]
  },
  {
   "cell_type": "markdown",
   "metadata": {},
   "source": [
    "## Visualisierung\n",
    "Mit pyLDAvis"
   ]
  },
  {
   "cell_type": "code",
   "execution_count": 7,
   "metadata": {},
   "outputs": [
    {
     "name": "stderr",
     "output_type": "stream",
     "text": [
      "E:\\Programme\\Anaconda3\\lib\\site-packages\\pyLDAvis\\_prepare.py:387: DeprecationWarning: \n",
      ".ix is deprecated. Please use\n",
      ".loc for label based indexing or\n",
      ".iloc for positional indexing\n",
      "\n",
      "See the documentation here:\n",
      "http://pandas.pydata.org/pandas-docs/stable/indexing.html#ix-indexer-is-deprecated\n",
      "  topic_term_dists = topic_term_dists.ix[topic_order]\n"
     ]
    },
    {
     "data": {
      "text/html": [
       "\n",
       "<link rel=\"stylesheet\" type=\"text/css\" href=\"https://cdn.rawgit.com/bmabey/pyLDAvis/files/ldavis.v1.0.0.css\">\n",
       "\n",
       "\n",
       "<div id=\"ldavis_el148802162163159832205677872\"></div>\n",
       "<script type=\"text/javascript\">\n",
       "\n",
       "var ldavis_el148802162163159832205677872_data = {\"mdsDat\": {\"Freq\": [51.80641814331466, 28.5697576363499, 19.61598591530926, 0.003919157851944544, 0.0039191471742337355], \"cluster\": [1, 1, 1, 1, 1], \"topics\": [1, 2, 3, 4, 5], \"x\": [0.13884819369248846, -0.1944187786375288, -0.034808409918677403, 0.04475098267800053, 0.045628012185717146], \"y\": [-0.07778567786078164, -0.07975240008373306, 0.1478067770953567, 0.0046342561730962715, 0.005097044676061776]}, \"tinfo\": {\"Category\": [\"Default\", \"Default\", \"Default\", \"Default\", \"Default\", \"Default\", \"Default\", \"Default\", \"Default\", \"Default\", \"Default\", \"Default\", \"Default\", \"Default\", \"Default\", \"Default\", \"Default\", \"Default\", \"Default\", \"Default\", \"Default\", \"Default\", \"Default\", \"Default\", \"Default\", \"Default\", \"Default\", \"Default\", \"Default\", \"Default\", \"Topic1\", \"Topic1\", \"Topic1\", \"Topic1\", \"Topic1\", \"Topic1\", \"Topic1\", \"Topic1\", \"Topic1\", \"Topic1\", \"Topic1\", \"Topic1\", \"Topic1\", \"Topic1\", \"Topic1\", \"Topic1\", \"Topic1\", \"Topic1\", \"Topic1\", \"Topic1\", \"Topic1\", \"Topic1\", \"Topic1\", \"Topic1\", \"Topic1\", \"Topic1\", \"Topic1\", \"Topic1\", \"Topic1\", \"Topic1\", \"Topic1\", \"Topic1\", \"Topic1\", \"Topic1\", \"Topic1\", \"Topic1\", \"Topic1\", \"Topic1\", \"Topic1\", \"Topic1\", \"Topic1\", \"Topic1\", \"Topic1\", \"Topic1\", \"Topic1\", \"Topic1\", \"Topic1\", \"Topic1\", \"Topic1\", \"Topic1\", \"Topic1\", \"Topic1\", \"Topic1\", \"Topic2\", \"Topic2\", \"Topic2\", \"Topic2\", \"Topic2\", \"Topic2\", \"Topic2\", \"Topic2\", \"Topic2\", \"Topic2\", \"Topic2\", \"Topic2\", \"Topic2\", \"Topic2\", \"Topic2\", \"Topic2\", \"Topic2\", \"Topic2\", \"Topic2\", \"Topic2\", \"Topic2\", \"Topic2\", \"Topic2\", \"Topic2\", \"Topic2\", \"Topic2\", \"Topic2\", \"Topic2\", \"Topic2\", \"Topic2\", \"Topic2\", \"Topic2\", \"Topic2\", \"Topic2\", \"Topic2\", \"Topic2\", \"Topic2\", \"Topic2\", \"Topic2\", \"Topic2\", \"Topic2\", \"Topic2\", \"Topic2\", \"Topic2\", \"Topic2\", \"Topic2\", \"Topic2\", \"Topic2\", \"Topic2\", \"Topic2\", \"Topic2\", \"Topic2\", \"Topic2\", \"Topic2\", \"Topic2\", \"Topic2\", \"Topic3\", \"Topic3\", \"Topic3\", \"Topic3\", \"Topic3\", \"Topic3\", \"Topic3\", \"Topic3\", \"Topic3\", \"Topic3\", \"Topic3\", \"Topic3\", \"Topic3\", \"Topic3\", \"Topic3\", \"Topic3\", \"Topic3\", \"Topic3\", \"Topic3\", \"Topic3\", \"Topic3\", \"Topic3\", \"Topic3\", \"Topic3\", \"Topic3\", \"Topic3\", \"Topic3\", \"Topic3\", \"Topic3\", \"Topic3\", \"Topic3\", \"Topic3\", \"Topic3\", \"Topic3\", \"Topic3\", \"Topic3\", \"Topic3\", \"Topic3\", \"Topic3\", \"Topic3\", \"Topic3\", \"Topic3\", \"Topic3\", \"Topic3\", \"Topic3\", \"Topic3\", \"Topic3\", \"Topic3\", \"Topic3\", \"Topic3\", \"Topic3\", \"Topic3\", \"Topic3\", \"Topic3\", \"Topic3\", \"Topic3\", \"Topic3\", \"Topic3\", \"Topic3\", \"Topic3\", \"Topic3\", \"Topic3\", \"Topic3\", \"Topic4\", \"Topic4\", \"Topic4\", \"Topic4\", \"Topic4\", \"Topic4\", \"Topic4\", \"Topic4\", \"Topic4\", \"Topic4\", \"Topic4\", \"Topic4\", \"Topic4\", \"Topic4\", \"Topic4\", \"Topic4\", \"Topic4\", \"Topic4\", \"Topic4\", \"Topic4\", \"Topic4\", \"Topic4\", \"Topic4\", \"Topic4\", \"Topic4\", \"Topic4\", \"Topic4\", \"Topic4\", \"Topic4\", \"Topic4\", \"Topic4\", \"Topic4\", \"Topic4\", \"Topic4\", \"Topic4\", \"Topic4\", \"Topic4\", \"Topic4\", \"Topic4\", \"Topic4\", \"Topic4\", \"Topic4\", \"Topic4\", \"Topic4\", \"Topic4\", \"Topic4\", \"Topic4\", \"Topic4\", \"Topic4\", \"Topic4\", \"Topic4\", \"Topic4\", \"Topic4\", \"Topic4\", \"Topic4\", \"Topic4\", \"Topic4\", \"Topic4\", \"Topic4\", \"Topic4\", \"Topic4\", \"Topic4\", \"Topic4\", \"Topic4\", \"Topic4\", \"Topic4\", \"Topic4\", \"Topic4\", \"Topic4\", \"Topic4\", \"Topic4\", \"Topic4\", \"Topic4\", \"Topic4\", \"Topic4\", \"Topic4\", \"Topic4\", \"Topic4\", \"Topic4\", \"Topic4\", \"Topic4\", \"Topic4\", \"Topic4\", \"Topic4\", \"Topic4\", \"Topic4\", \"Topic4\", \"Topic4\", \"Topic4\", \"Topic4\", \"Topic5\", \"Topic5\", \"Topic5\", \"Topic5\", \"Topic5\", \"Topic5\", \"Topic5\", \"Topic5\", \"Topic5\", \"Topic5\", \"Topic5\", \"Topic5\", \"Topic5\", \"Topic5\", \"Topic5\", \"Topic5\", \"Topic5\", \"Topic5\", \"Topic5\", \"Topic5\", \"Topic5\", \"Topic5\", \"Topic5\", \"Topic5\", \"Topic5\", \"Topic5\", \"Topic5\", \"Topic5\", \"Topic5\", \"Topic5\", \"Topic5\", \"Topic5\", \"Topic5\", \"Topic5\", \"Topic5\", \"Topic5\", \"Topic5\", \"Topic5\", \"Topic5\", \"Topic5\", \"Topic5\", \"Topic5\", \"Topic5\", \"Topic5\", \"Topic5\", \"Topic5\", \"Topic5\", \"Topic5\", \"Topic5\", \"Topic5\", \"Topic5\", \"Topic5\", \"Topic5\", \"Topic5\", \"Topic5\", \"Topic5\", \"Topic5\", \"Topic5\", \"Topic5\", \"Topic5\", \"Topic5\", \"Topic5\", \"Topic5\", \"Topic5\"], \"Freq\": [196.0, 268.0, 127.0, 105.0, 235.0, 98.0, 131.0, 79.0, 124.0, 64.0, 30.0, 33.0, 47.0, 47.0, 31.0, 54.0, 25.0, 53.0, 23.0, 31.0, 24.0, 22.0, 35.0, 28.0, 16.0, 31.0, 19.0, 16.0, 16.0, 18.0, 267.7542313728016, 64.61063752037617, 25.235806179609046, 23.446226724424143, 22.550881164441858, 18.970923088474432, 18.076442467012736, 18.07579402678282, 17.181337863785718, 16.28669542225175, 15.392301536872825, 15.391625377534089, 15.391603181804914, 121.88330183626154, 14.496901125305103, 14.49693567093068, 14.496785594457512, 12.70739934091771, 11.812597329448558, 11.812441568147158, 11.812337496662899, 11.81266079163705, 10.917846867758437, 10.917835838408319, 10.91770327459837, 10.917259999093197, 10.02291689877191, 10.02272597819646, 10.02256816020846, 10.022613287162972, 45.81747045378672, 29.709696666188798, 40.44911951007333, 14.497099497041992, 16.286603537564524, 30.604474027063276, 22.551869300275413, 17.182453397835136, 27.921436554301838, 21.655436039934777, 15.39196940743104, 28.8176857044762, 40.449817940696924, 17.181515563628775, 76.24562317597267, 18.971402777807278, 24.340843116877476, 21.65677153505485, 22.551287290327277, 21.656902925262518, 18.07765198281507, 20.77055679518929, 18.07695564292719, 196.34605507251698, 30.662497869312, 16.647441161405528, 15.82469278863308, 15.824248276090273, 15.00236427878247, 14.999988497918483, 12.528050971757624, 12.52706858864188, 12.528635433028713, 11.704570688690564, 10.055791259837806, 10.05591036913447, 32.31080508296761, 9.231591813725498, 9.231793417713325, 9.231491251651262, 8.406868957113112, 8.407615891803946, 8.406566500020485, 8.406607382873885, 7.582813757109633, 7.582290244563996, 121.32196847661139, 6.758189658436166, 6.758945018037788, 6.758599370760604, 6.759109049865972, 6.7580069346823555, 6.75860977154791, 93.29962724028863, 17.473052141972122, 16.648912604946226, 71.8750803629816, 15.824423236595377, 15.825563785868352, 14.177200613218952, 21.595723343101735, 27.364322279078262, 16.649466820887888, 15.001067513661834, 151.00772035552157, 12.527980688938475, 20.76818918354421, 17.474381542144755, 33.959963896212486, 24.89411025333343, 33.13638632237522, 24.070556043366953, 22.42127769014286, 18.301516101030188, 33.14860312796501, 19.9503926196606, 24.904827143804166, 19.124718432789276, 15.830965501482254, 11.599669635560264, 10.073015212091999, 8.54724222894761, 7.784093374157302, 6.257975929207155, 5.494522161414257, 5.49446833105795, 5.494518400765143, 4.7314071097738015, 4.731375523004756, 4.731408169004221, 3.968257261041412, 3.9682413707342374, 3.9681655410403884, 3.9682146557275715, 3.9682065873749064, 3.968148243317885, 3.9682092717850255, 3.2051405324716566, 3.205220445430504, 3.2051647279087945, 3.205143540652143, 3.205175106079773, 3.2050816069278474, 3.2051684207935676, 3.2051645284512067, 3.205157796905192, 3.205092307789984, 3.2050414534929206, 3.2051026515917274, 9.310571173603478, 7.78375351913358, 77.99333227210282, 77.99335330134353, 10.07341461295892, 10.073198279185947, 5.494819403953196, 5.4945056412283195, 5.494551005780694, 4.731550839521996, 9.310391126186289, 4.731544589171905, 21.52200024792904, 13.126700270091357, 15.415515259808215, 10.073044488293792, 8.547348230344651, 13.125677641092345, 13.127121154897187, 5.4946931969103385, 13.127079475785603, 9.311040420402048, 9.311286309711377, 8.547680488004554, 10.838801089605152, 11.601478119331539, 11.601129506411862, 13.892705253063843, 12.36398099570645, 7.7847358516638465, 8.548060758950944, 7.7846068616528505, 8.557371780719825, 0.00012872859750665677, 0.00012872667830757443, 0.00012872502783830599, 0.0001287259798826431, 0.0001287257827820476, 0.00012872254531534676, 0.00012872376051234198, 0.00012872335934212249, 0.00012872156539241387, 0.00012872082611895685, 0.0001287219688873659, 0.0001287211572674464, 0.00012871928111230768, 0.00012872287879038248, 0.0001287199186982782, 0.00012872060418219088, 0.00012871998559333276, 0.0001287186474579624, 0.00012872022915142865, 0.0001287212627263036, 0.0001287184053106898, 0.00012871824572556584, 0.00012871915067305358, 0.0001287173185725974, 0.00012871888293673658, 0.00012871899891327593, 0.00012871874109711865, 0.00012871887281156092, 0.00012871942795308092, 0.00012871846292054773, 0.00012871868528351559, 0.0001287194697581311, 0.00012871898311847275, 0.00012871859055746824, 0.00016835914019363944, 0.0001631960339926808, 0.0001635924427223383, 0.00012897640813844404, 0.00012896615925026174, 0.00015199522232222209, 0.00012895816942619243, 0.00012895728786056123, 0.00012895515175284124, 0.00012895449261621282, 0.00012894946484515084, 0.0001289439403579195, 0.0001289427924201428, 0.00012894149897808111, 0.00012893168658741332, 0.00012892440745197793, 0.00012892172500533332, 0.0001289213278564881, 0.0001289195505751132, 0.00012891945922868897, 0.00012891446089675841, 0.00012891263141991553, 0.0001289124700900351, 0.00012890926981575125, 0.00012890810540679365, 0.00012890807381932013, 0.0001452658852694564, 0.0001413588456871611, 0.00012890692958271457, 0.00012890531153898419, 0.00013793193765893055, 0.00014000908554243953, 0.00013730774203306008, 0.00013570039060871748, 0.00013591520907405932, 0.0001353033568900394, 0.00013693286456360445, 0.00013517578133305798, 0.00013572068316354058, 0.00013380812492831006, 0.00013498127384062346, 0.0001343791525969453, 0.00013504438192671943, 0.00013488341225174433, 0.00013371546280668625, 0.00013328363502607436, 0.0001341257182207227, 0.00013301163081193184, 0.00013437808398311418, 0.00013262002852708064, 0.00013276564829941125, 0.00013280150721032262, 0.00013278701037184717, 0.00013284786445048175, 0.00013466422698290613, 0.00013330841960719784, 0.0001288587725443082, 0.000128856911605094, 0.00012885620433486609, 0.00012885738229978345, 0.00012885765792372244, 0.0001288558723599935, 0.0001288547225230633, 0.00012885244619327896, 0.0001288531567536926, 0.00012885212803051487, 0.00012885309826404112, 0.00012885145450125993, 0.00012885190150040127, 0.00012885159858016246, 0.00012885074229435694, 0.00012885265795291821, 0.0001288516709761507, 0.00012885145465108463, 0.00012885089010275817, 0.00012885228091917808, 0.00012884912781675506, 0.00012885209178196809, 0.00012884866525727492, 0.00012884906708652102, 0.00012884897084193553, 0.00012884872526360743, 0.00012884771165441467, 0.00012884920127705058, 0.0001288472364542505, 0.00012884681900959276, 0.00012884889405148184, 0.00012884796158794972, 0.00012884844999941624, 0.00012884803995116966, 0.0001423609964879755, 0.00014202139683338705, 0.00013826490352380976, 0.00013729267792205523, 0.00013559525747377523, 0.0001349197807682779, 0.00013528346391496247, 0.00013328876083610897, 0.00013279244923654996, 0.00013243271939618613, 0.00013198926497066826, 0.00013191604800317228, 0.0001318481531906199, 0.00013161255700753268, 0.00013159831717080738, 0.000131474472012473, 0.00013125735697507018, 0.00013109820522622906, 0.00013091560938897502, 0.0001309125260115489, 0.0001308773546267328, 0.00013087277197038866, 0.00013084453207714785, 0.0001307899044560844, 0.00013075307319051992, 0.00013065841566009138, 0.00013061953480926207, 0.00013061755178638392, 0.00013059626357673227, 0.00013051865771719772], \"Term\": [\"master\", \"stuttgart\", \"degree\", \"universities\", \"s\", \"degrees\", \"university\", \"m\", \"city\", \"w\\u00fcrttemberg\", \"ma\", \"bachelor\", \"education\", \"germany\", \"study\", \"research\", \"baden\", \"years\", \"castle\", \"higher\", \"awarded\", \"center\", \"science\", \"students\", \"credits\", \"war\", \"cannstatt\", \"b\", \"integrated\", \"professional\", \"stuttgart\", \"w\\u00fcrttemberg\", \"baden\", \"castle\", \"center\", \"cannstatt\", \"home\", \"cities\", \"largest\", \"duke\", \"king\", \"museum\", \"capital\", \"city\", \"eberhard\", \"neckar\", \"population\", \"park\", \"built\", \"wine\", \"2006\", \"army\", \"swabian\", \"ulrich\", \"nearby\", \"district\", \"benz\", \"famous\", \"station\", \"former\", \"germany\", \"war\", \"german\", \"region\", \"international\", \"area\", \"since\", \"local\", \"world\", \"000\", \"today\", \"state\", \"also\", \"later\", \"s\", \"around\", \"one\", \"many\", \"first\", \"year\", \"century\", \"university\", \"two\", \"master\", \"ma\", \"credits\", \"integrated\", \"b\", \"ects\", \"course\", \"msc\", \"cycle\", \"normally\", \"qualification\", \"sc\", \"courses\", \"bachelor\", \"programmes\", \"examination\", \"magister\", \"cand\", \"ba\", \"honours\", \"oxbridge\", \"completion\", \"programme\", \"degree\", \"doctor\", \"minimum\", \"sensu\", \"graduates\", \"requires\", \"thesis\", \"degrees\", \"professional\", \"postgraduate\", \"m\", \"qualifications\", \"scotland\", \"uk\", \"awarded\", \"study\", \"level\", \"undergraduate\", \"s\", \"studies\", \"arts\", \"e\", \"years\", \"science\", \"research\", \"year\", \"two\", \"may\", \"university\", \"education\", \"universities\", \"first\", \"also\", \"scholars\", \"texts\", \"model\", \"humanist\", \"press\", \"aristotle\", \"isbn\", \"term\", \"cathedral\", \"instruction\", \"humanism\", \"corporate\", \"grants\", \"curriculum\", \"epistemological\", \"tended\", \"granting\", \"toward\", \"logic\", \"scholar\", \"freedom\", \"understanding\", \"emergence\", \"islamic\", \"galen\", \"perceived\", \"521\", \"deemed\", \"autonomy\", \"madrasas\", \"scientific\", \"medieval\", \"universities\", \"university\", \"knowledge\", \"institution\", \"fees\", \"generally\", \"revolution\", \"professors\", \"schools\", \"ideas\", \"education\", \"europe\", \"higher\", \"countries\", \"institutions\", \"students\", \"european\", \"teaching\", \"new\", \"modern\", \"early\", \"although\", \"many\", \"century\", \"state\", \"also\", \"research\", \"states\", \"world\", \"science\", \"s\", \"utility\", \"1996\", \"accelerated\", \"lectured\", \"madison\", \"determined\", \"phase\", \"metaphysics\", \"becoming\", \"roy\", \"humboldt\", \"viability\", \"denominated\", \"coming\", \"promoting\", \"holder\", \"york\", \"toby\", \"advocated\", \"nui\", \"text\", \"nationes\", \"managerialisation\", \"suggest\", \"parallel\", \"cop\", \"sustainable\", \"430\", \"belie\", \"leadership\", \"505382\", \"iberia\", \"endeavors\", \"12400\", \"s\", \"degree\", \"master\", \"noting\", \"o\", \"degrees\", \"lords\", \"shortest\", \"polish\", \"1835\", \"analysis\", \"complex\", \"combination\", \"anachronistic\", \"comparing\", \"effort\", \"position\", \"1870s\", \"bphil\", \"charged\", \"impossible\", \"licenced\", \"montenegro\", \"exists\", \"component\", \"m2\", \"m\", \"university\", \"fit\", \"doctorandus\", \"years\", \"stuttgart\", \"research\", \"arts\", \"bachelor\", \"study\", \"universities\", \"ma\", \"also\", \"credits\", \"two\", \"students\", \"year\", \"first\", \"awarded\", \"professional\", \"science\", \"qualifications\", \"education\", \"cycle\", \"course\", \"b\", \"integrated\", \"postgraduate\", \"city\", \"one\", \"eminently\", \"hungry\", \"experimentation\", \"samuel\", \"professorships\", \"incipient\", \"aegis\", \"regardless\", \"schleiermacher\", \"prelates\", \"cismontanes\", \"boards\", \"represents\", \"prince\", \"ecclipses\", \"chairs\", \"fihri\", \"advocating\", \"discoveries\", \"geometry\", \"determined\", \"xavier\", \"suggest\", \"ny\", \"morocco\", \"divergence\", \"denominated\", \"destabilize\", \"signatory\", \"toby\", \"nationally\", \"murray\", \"adaptation\", \"arrangements\", \"s\", \"stuttgart\", \"city\", \"master\", \"universities\", \"degrees\", \"university\", \"degree\", \"w\\u00fcrttemberg\", \"also\", \"research\", \"m\", \"first\", \"germany\", \"world\", \"year\", \"higher\", \"century\", \"years\", \"since\", \"war\", \"one\", \"area\", \"german\", \"students\", \"000\", \"education\", \"science\", \"two\", \"new\"], \"Total\": [196.0, 268.0, 127.0, 105.0, 235.0, 98.0, 131.0, 79.0, 124.0, 64.0, 30.0, 33.0, 47.0, 47.0, 31.0, 54.0, 25.0, 53.0, 23.0, 31.0, 24.0, 22.0, 35.0, 28.0, 16.0, 31.0, 19.0, 16.0, 16.0, 18.0, 268.11942735262227, 64.93949955713026, 25.557283971640253, 23.76807510362278, 22.873070730818455, 19.292728147064242, 18.397889725434236, 18.397588138882522, 17.50217844974821, 16.60713990405808, 15.712432397952737, 15.712110376010681, 15.712587033422858, 124.50940777314374, 14.817055787397376, 14.817460232770388, 14.817360202388532, 13.027505386241383, 12.132288673199376, 12.132271859077678, 12.132179903198494, 12.132566177640241, 11.237280487808935, 11.237345385388112, 11.237373082714402, 11.23726755223071, 10.342249152756612, 10.342394794503413, 10.342388439830762, 10.342451966129094, 47.731905675143096, 31.55944743483963, 46.941256707133576, 15.580730952226622, 18.256240344067237, 39.874494821542385, 27.757319905834517, 19.792844983700792, 36.63851717001796, 26.862116535593856, 17.299861196132863, 41.41273629843785, 70.17375684864558, 20.616676282202224, 235.81102603235072, 24.75712526841399, 42.55349176363402, 34.31234797851872, 47.936411362596736, 47.40853579642634, 41.38739503896253, 131.91278986680746, 42.17985603304827, 196.68871731433669, 30.996210634651103, 16.98060683488206, 16.157594996517503, 16.157488888473736, 15.335231477808605, 15.332928814342715, 12.860767549926415, 12.859836297216702, 12.86151572449491, 12.037161608631363, 10.388423531163527, 10.388549247230333, 33.407752382246144, 9.564000841970907, 9.564266757374993, 9.564262057900947, 8.739280023268938, 8.740100526578845, 8.73901432871487, 8.739153995027566, 7.915305693293551, 7.914840117077684, 127.00271750554889, 7.090516715316604, 7.09132347962886, 7.090979231914554, 7.091592452000959, 7.090468030634514, 7.091115698784683, 98.97958027527766, 18.56923002604484, 17.745170526881953, 79.37044092883299, 16.920641097166907, 16.921992251267284, 15.273214886660643, 24.218272461084993, 31.514756218756325, 18.772312341253016, 16.86045258685543, 235.81102603235072, 13.755619507196538, 26.07599037912161, 21.387174838046164, 53.324404543847685, 35.54436601787948, 54.63089541650439, 47.40853579642634, 42.17985603304827, 30.872208083987953, 131.91278986680746, 47.02355711272693, 105.76882472844683, 47.936411362596736, 70.17375684864558, 11.946300446973371, 10.419322389027773, 8.893146192606988, 8.129787044623535, 6.60334687320459, 5.839917608071208, 5.839918246713373, 5.840003726927426, 5.076638609590927, 5.076648258760087, 5.076726120365385, 4.313304498125576, 4.313307837092318, 4.313244367819656, 4.313375356891797, 4.313405274471599, 4.313381564328293, 4.31345281669992, 3.5499572002433926, 3.5500862289505792, 3.550063032941161, 3.550041298227464, 3.5500765522455278, 3.54997469450864, 3.5500711483412055, 3.550101046713567, 3.5501015068429274, 3.550067723721504, 3.5500212247324363, 3.550155308832097, 10.551248756685878, 8.95387693358652, 105.76882472844683, 131.91278986680746, 12.89272656112107, 13.034266009810066, 6.664376416636249, 6.664381615641619, 6.73507088497357, 5.900792605137642, 14.885853621584683, 5.971846264171288, 47.02355711272693, 24.072083465018043, 31.4945701390213, 17.83857536370356, 14.121995696468437, 28.307478452214315, 33.35160820170218, 7.559316580967851, 35.354023963047915, 20.184690795507244, 21.15050022274385, 18.243744356803983, 34.31234797851872, 41.38739503896253, 41.41273629843785, 70.17375684864558, 54.63089541650439, 17.76337169501412, 36.63851717001796, 35.54436601787948, 235.81102603235072, 1.2601528131952728, 1.2601594455763128, 1.2601512804997053, 1.260169692322371, 1.2601761711905077, 1.2601450981072804, 1.2601662966081884, 1.2601682950751951, 1.2601656375251782, 1.2601655095426678, 1.260176940582263, 1.2601692577503338, 1.2601527016102243, 1.2601892198880666, 1.260162947283771, 1.2601698255604168, 1.26016388924674, 1.2601525039884305, 1.2601700457208964, 1.2601866599923226, 1.2601592854179762, 1.2601585321762805, 1.2601705847857885, 1.2601536577692731, 1.2601697553851348, 1.2601720713989792, 1.2601706696343054, 1.2601722063038496, 1.2601783898281236, 1.260169792526659, 1.2601745430219953, 1.2601882058629337, 1.2601853714289055, 1.2601746766327, 235.81102603235072, 127.00271750554889, 196.68871731433669, 1.3210057057502333, 1.3210235871839537, 98.97958027527766, 1.3210235135263828, 1.32101936836797, 1.3210473577221409, 1.3210167504816452, 1.3210352150413847, 1.321062164252016, 1.3210346428482163, 1.321056946637235, 1.3210588592815469, 1.321062917167822, 1.3210794567035513, 1.3210713106284064, 1.3210887444774029, 1.3210768638355255, 1.3210832000986221, 1.321088648724791, 1.3210978812118344, 1.321095910280394, 1.3210896217100996, 1.3211012541253662, 79.37044092883299, 131.91278986680746, 1.3210875688528991, 1.3211113481664263, 53.324404543847685, 268.11942735262227, 54.63089541650439, 26.07599037912161, 33.407752382246144, 31.514756218756325, 105.76882472844683, 30.996210634651103, 70.17375684864558, 16.98060683488206, 42.17985603304827, 28.307478452214315, 47.40853579642634, 47.936411362596736, 24.218272461084993, 18.56923002604484, 35.54436601787948, 16.920641097166907, 47.02355711272693, 12.859836297216702, 15.332928814342715, 16.157488888473736, 16.157594996517503, 17.745170526881953, 124.50940777314374, 42.55349176363402, 1.260155923425294, 1.2601421681914131, 1.2601469399234744, 1.2601586759513903, 1.260169907084745, 1.2601588210672006, 1.2601594853138947, 1.260156131358125, 1.2601637414504498, 1.260157096212639, 1.2601692314238682, 1.260153600566417, 1.2601614950323075, 1.260159920256892, 1.260155101991706, 1.2601739131499197, 1.2601653331868123, 1.2601646814495582, 1.2601593641858513, 1.2601732050699848, 1.2601450981072804, 1.2601778560197576, 1.2601536577692731, 1.2601590922032724, 1.2601627664386614, 1.2601624938337717, 1.2601527016102243, 1.260170566624987, 1.2601556830955543, 1.2601525039884305, 1.2601737820174739, 1.2601652131659264, 1.2601759940025419, 1.2601761638885518, 235.81102603235072, 268.11942735262227, 124.50940777314374, 196.68871731433669, 105.76882472844683, 98.97958027527766, 131.91278986680746, 127.00271750554889, 64.93949955713026, 70.17375684864558, 54.63089541650439, 79.37044092883299, 47.936411362596736, 47.731905675143096, 36.63851717001796, 47.40853579642634, 31.4945701390213, 41.38739503896253, 53.324404543847685, 27.757319905834517, 31.55944743483963, 42.55349176363402, 39.874494821542385, 46.941256707133576, 28.307478452214315, 26.862116535593856, 47.02355711272693, 35.54436601787948, 42.17985603304827, 35.354023963047915], \"loglift\": [30.0, 29.0, 28.0, 27.0, 26.0, 25.0, 24.0, 23.0, 22.0, 21.0, 20.0, 19.0, 18.0, 17.0, 16.0, 15.0, 14.0, 13.0, 12.0, 11.0, 10.0, 9.0, 8.0, 7.0, 6.0, 5.0, 4.0, 3.0, 2.0, 1.0, 0.6563, 0.6526, 0.645, 0.644, 0.6435, 0.6408, 0.64, 0.64, 0.6392, 0.6382, 0.6371, 0.637, 0.637, 0.6363, 0.6358, 0.6358, 0.6358, 0.6328, 0.631, 0.6309, 0.6309, 0.6309, 0.6288, 0.6288, 0.6288, 0.6288, 0.6263, 0.6263, 0.6262, 0.6262, 0.6167, 0.5973, 0.5088, 0.5856, 0.5435, 0.3931, 0.45, 0.5162, 0.386, 0.4422, 0.5408, 0.2951, 0.1067, 0.4754, -0.4714, 0.3915, 0.099, 0.1975, -0.0964, -0.1258, -0.1706, -1.1909, -0.1896, 1.2511, 1.242, 1.233, 1.232, 1.232, 1.2309, 1.2309, 1.2266, 1.2266, 1.2266, 1.2248, 1.2203, 1.2203, 1.2194, 1.2174, 1.2174, 1.2174, 1.214, 1.214, 1.214, 1.214, 1.2099, 1.2099, 1.2071, 1.2048, 1.2048, 1.2048, 1.2048, 1.2048, 1.2048, 1.1937, 1.192, 1.1891, 1.1536, 1.1858, 1.1858, 1.1784, 1.1382, 1.1116, 1.1328, 1.136, 0.8071, 1.1593, 1.0252, 1.0508, 0.8016, 0.8967, 0.7529, 0.575, 0.6209, 0.7299, -0.1283, 0.3954, -0.1934, 0.3339, -0.2362, 1.5994, 1.595, 1.5892, 1.5854, 1.5751, 1.5679, 1.5679, 1.5678, 1.5584, 1.5584, 1.5584, 1.5454, 1.5454, 1.5454, 1.5454, 1.5454, 1.5454, 1.5454, 1.5266, 1.5266, 1.5266, 1.5266, 1.5266, 1.5266, 1.5266, 1.5266, 1.5266, 1.5266, 1.5266, 1.5266, 1.5037, 1.4888, 1.3242, 1.1033, 1.3821, 1.3711, 1.4359, 1.4358, 1.4253, 1.408, 1.1595, 1.396, 0.8473, 1.0224, 0.9144, 1.0573, 1.1267, 0.8603, 0.6964, 1.3098, 0.6381, 0.8551, 0.8084, 0.8707, 0.4765, 0.357, 0.3563, 0.0092, 0.143, 0.8039, 0.1734, 0.1102, -1.6874, 0.958, 0.958, 0.958, 0.958, 0.958, 0.958, 0.958, 0.958, 0.9579, 0.9579, 0.9579, 0.9579, 0.9579, 0.9579, 0.9579, 0.9579, 0.9579, 0.9579, 0.9579, 0.9579, 0.9579, 0.9579, 0.9579, 0.9579, 0.9579, 0.9579, 0.9579, 0.9579, 0.9579, 0.9579, 0.9579, 0.9579, 0.9579, 0.9579, -4.0054, -3.4177, -3.8527, 0.9128, 0.9127, -3.2395, 0.9126, 0.9126, 0.9126, 0.9126, 0.9125, 0.9125, 0.9125, 0.9125, 0.9124, 0.9123, 0.9123, 0.9123, 0.9123, 0.9123, 0.9122, 0.9122, 0.9122, 0.9122, 0.9122, 0.9122, -3.064, -3.5993, 0.9122, 0.9121, -2.7181, -4.3182, -2.7468, -2.019, -2.2652, -2.2114, -3.4102, -2.1958, -3.0088, -1.6041, -2.5053, -2.1109, -2.6217, -2.6339, -1.9599, -1.6975, -2.3405, -1.6066, -2.6185, -1.3351, -1.5099, -1.562, -1.5621, -1.6554, -3.5901, -2.5266, 0.959, 0.959, 0.959, 0.959, 0.959, 0.959, 0.959, 0.959, 0.959, 0.959, 0.959, 0.959, 0.959, 0.959, 0.959, 0.959, 0.959, 0.959, 0.959, 0.959, 0.959, 0.959, 0.9589, 0.9589, 0.9589, 0.9589, 0.9589, 0.9589, 0.9589, 0.9589, 0.9589, 0.9589, 0.9589, 0.9589, -4.1731, -4.3039, -3.5637, -4.028, -3.42, -3.3587, -3.6432, -3.6201, -2.9531, -3.0334, -2.7863, -3.1604, -2.6567, -2.6542, -2.3898, -2.6484, -2.2411, -2.5155, -2.7703, -2.1174, -2.2461, -2.545, -2.4802, -2.6438, -2.1383, -2.0866, -2.6468, -2.367, -2.5383, -2.3624], \"logprob\": [30.0, 29.0, 28.0, 27.0, 26.0, 25.0, 24.0, 23.0, 22.0, 21.0, 20.0, 19.0, 18.0, 17.0, 16.0, 15.0, 14.0, 13.0, 12.0, 11.0, 10.0, 9.0, 8.0, 7.0, 6.0, 5.0, 4.0, 3.0, 2.0, 1.0, -3.3887, -4.8104, -5.7505, -5.824, -5.863, -6.0358, -6.0841, -6.0842, -6.1349, -6.1884, -6.2449, -6.2449, -6.2449, -4.1757, -6.3048, -6.3048, -6.3048, -6.4366, -6.5096, -6.5096, -6.5096, -6.5096, -6.5883, -6.5883, -6.5884, -6.5884, -6.6739, -6.6739, -6.6739, -6.6739, -5.1541, -5.5873, -5.2787, -6.3048, -6.1884, -5.5576, -5.8629, -6.1348, -5.6493, -5.9035, -6.2449, -5.6177, -5.2787, -6.1349, -4.6448, -6.0358, -5.7866, -5.9034, -5.8629, -5.9034, -6.0841, -5.9452, -6.0841, -3.1037, -4.9605, -5.5713, -5.622, -5.622, -5.6754, -5.6755, -5.8556, -5.8557, -5.8556, -5.9236, -6.0754, -6.0754, -4.9082, -6.1609, -6.1609, -6.161, -6.2545, -6.2544, -6.2546, -6.2546, -6.3577, -6.3578, -3.5851, -6.4728, -6.4727, -6.4728, -6.4727, -6.4728, -6.4728, -3.8478, -5.5229, -5.5712, -4.1086, -5.622, -5.6219, -5.7319, -5.3111, -5.0743, -5.5712, -5.6754, -3.3662, -5.8556, -5.3501, -5.5228, -4.8584, -5.1689, -4.8829, -5.2026, -5.2736, -5.4766, -4.8826, -5.3903, -5.1685, -5.4326, -5.6216, -5.5566, -5.6977, -5.862, -5.9555, -6.1737, -6.3038, -6.3038, -6.3038, -6.4533, -6.4534, -6.4533, -6.6292, -6.6292, -6.6293, -6.6293, -6.6293, -6.6293, -6.6293, -6.8428, -6.8428, -6.8428, -6.8428, -6.8428, -6.8428, -6.8428, -6.8428, -6.8428, -6.8428, -6.8428, -6.8428, -5.7764, -5.9555, -3.6509, -3.6509, -5.6977, -5.6977, -6.3038, -6.3038, -6.3038, -6.4533, -5.7764, -6.4533, -4.9385, -5.4329, -5.2722, -5.6977, -5.8619, -5.433, -5.4329, -6.3038, -5.4329, -5.7764, -5.7763, -5.8619, -5.6244, -5.5564, -5.5565, -5.3762, -5.4928, -5.9554, -5.8619, -5.9554, -5.8608, -8.4471, -8.4472, -8.4472, -8.4472, -8.4472, -8.4472, -8.4472, -8.4472, -8.4472, -8.4472, -8.4472, -8.4472, -8.4472, -8.4472, -8.4472, -8.4472, -8.4472, -8.4472, -8.4472, -8.4472, -8.4472, -8.4472, -8.4472, -8.4472, -8.4472, -8.4472, -8.4472, -8.4472, -8.4472, -8.4472, -8.4472, -8.4472, -8.4472, -8.4472, -8.1788, -8.2099, -8.2075, -8.4452, -8.4453, -8.281, -8.4454, -8.4454, -8.4454, -8.4454, -8.4454, -8.4455, -8.4455, -8.4455, -8.4456, -8.4456, -8.4456, -8.4457, -8.4457, -8.4457, -8.4457, -8.4457, -8.4457, -8.4457, -8.4458, -8.4458, -8.3263, -8.3536, -8.4458, -8.4458, -8.3781, -8.3631, -8.3826, -8.3944, -8.3928, -8.3973, -8.3854, -8.3983, -8.3943, -8.4084, -8.3997, -8.4042, -8.3993, -8.4004, -8.4091, -8.4124, -8.4061, -8.4144, -8.4042, -8.4174, -8.4163, -8.416, -8.4161, -8.4156, -8.4021, -8.4122, -8.4461, -8.4461, -8.4462, -8.4461, -8.4461, -8.4462, -8.4462, -8.4462, -8.4462, -8.4462, -8.4462, -8.4462, -8.4462, -8.4462, -8.4462, -8.4462, -8.4462, -8.4462, -8.4462, -8.4462, -8.4462, -8.4462, -8.4462, -8.4462, -8.4462, -8.4462, -8.4462, -8.4462, -8.4462, -8.4462, -8.4462, -8.4462, -8.4462, -8.4462, -8.3465, -8.3489, -8.3757, -8.3827, -8.3952, -8.4002, -8.3975, -8.4123, -8.4161, -8.4188, -8.4221, -8.4227, -8.4232, -8.425, -8.4251, -8.426, -8.4277, -8.4289, -8.4303, -8.4303, -8.4306, -8.4306, -8.4308, -8.4313, -8.4315, -8.4323, -8.4326, -8.4326, -8.4327, -8.4333]}, \"token.table\": {\"Topic\": [1, 2, 3, 3, 2, 2, 3, 1, 3, 3, 3, 3, 3, 3, 3, 3, 1, 2, 3, 1, 2, 3, 2, 2, 1, 2, 3, 3, 1, 1, 2, 3, 3, 1, 2, 3, 3, 2, 3, 2, 2, 2, 3, 1, 3, 3, 1, 3, 2, 1, 2, 1, 1, 1, 3, 1, 1, 2, 3, 3, 2, 3, 1, 1, 3, 2, 3, 2, 2, 2, 2, 3, 3, 2, 3, 2, 2, 2, 3, 2, 3, 2, 3, 2, 3, 3, 3, 3, 3, 1, 3, 2, 2, 1, 1, 2, 1, 2, 3, 1, 3, 2, 1, 2, 3, 2, 3, 3, 3, 3, 1, 2, 3, 1, 2, 3, 2, 2, 3, 1, 2, 3, 3, 1, 2, 3, 2, 1, 3, 3, 2, 3, 3, 1, 2, 3, 1, 2, 3, 2, 3, 3, 1, 2, 3, 3, 1, 2, 3, 3, 3, 3, 3, 1, 3, 2, 3, 1, 2, 3, 1, 2, 3, 3, 2, 1, 2, 3, 3, 1, 2, 3, 1, 1, 2, 3, 3, 3, 1, 2, 2, 1, 3, 3, 2, 1, 2, 2, 2, 3, 3, 2, 3, 1, 2, 3, 2, 1, 2, 3, 2, 3, 3, 2, 3, 1, 2, 3, 2, 3, 2, 3, 1, 3, 3, 1, 1, 1, 2, 3, 2, 2, 3, 3, 2, 1, 2, 3, 2, 3, 1, 3, 3, 2, 1, 2, 2, 3, 3, 3, 3, 2, 3, 2, 3, 3, 2, 2, 3, 2, 2, 3, 3, 1, 3, 3, 2, 1, 2, 3, 1, 3, 3, 1, 2, 3, 3, 2, 3, 3, 3, 1, 2, 3, 1, 2, 3, 1, 3, 2, 3, 2, 2, 3, 1, 2, 3, 1, 2, 3, 1, 2, 3, 1, 2, 3, 1, 2, 2, 3, 1, 3, 3, 1, 1, 2, 3, 3, 3, 3, 3, 2, 3, 1, 2, 3, 3, 1, 2, 3, 2, 3, 1, 2, 3, 3, 1, 2, 3, 1, 2, 3, 3, 3, 1, 3, 1, 1, 3, 1, 3, 1, 2, 3, 1, 2, 3, 3], \"Freq\": [0.8189972659395148, 0.14890859380718452, 0.03722714845179613, 0.7935407833079854, 0.7569926722241774, 0.7569614084831806, 0.7935503745263496, 0.9891050162251842, 0.7935423388943419, 0.793540867443587, 0.8450462597245205, 0.7935555162896443, 0.7935399537518748, 0.793543699436164, 0.7935470773944461, 0.793550349502713, 0.5700136603242446, 0.22800546412969785, 0.19950478111348563, 0.21925323671333974, 0.3288798550700096, 0.49331978260501447, 0.7569696390042162, 0.7569820914794255, 0.7774393165039448, 0.2006295010332761, 0.05015737525831902, 0.8561764626763949, 0.9890735252790498, 0.7674558251010212, 0.08078482369484434, 0.16156964738968868, 0.7935398467737076, 0.11504836274222684, 0.8053385391955878, 0.07669890849481789, 0.8450653700601772, 0.9084050084641911, 0.08258227349674464, 0.9902528858561627, 0.9153212798493356, 0.9578615057325957, 0.029933172054143614, 0.9781947106641439, 0.793546475337866, 0.7935384450898182, 0.9669076670169574, 0.7935540552758946, 0.7569514191838647, 0.9890961485699227, 0.9154072164639931, 0.9848270216201235, 0.9546486500340723, 0.9676845895061267, 0.9849036704235478, 1.0055492885356458, 0.4349150262550859, 0.2899433508367239, 0.2899433508367239, 0.7935412640787086, 0.7569582265612218, 0.7935442122087822, 0.9783891162319133, 0.9798456372251334, 0.016063043233198907, 0.7569824193587765, 0.7935316254243332, 0.7569685430548087, 1.0107000676901474, 0.7569666493069227, 0.7569509165513983, 0.7935424238452219, 0.9273632320042028, 0.44846630613102273, 0.5605828826637784, 0.978286678404762, 0.9625983149346937, 1.0011420772712376, 0.9273761602387484, 1.0108993380276259, 0.8450543013458705, 0.9527355191806299, 0.039369236329778096, 0.9395877386159094, 0.05051546981805964, 0.7935546213742184, 0.7935433714169497, 0.7935594095489364, 0.7935504257797331, 0.9788856542635571, 0.7935484549756091, 0.9872341157984899, 0.7569384680465446, 0.9634410315342908, 0.187027974956482, 0.7948688935650485, 0.47280205643773193, 0.09456041128754639, 0.4255218507939587, 0.944857075580945, 0.7935531097874186, 0.9781397836548008, 0.12759562160762397, 0.4253187386920799, 0.4678506125612879, 0.7569662178875348, 0.8450521998187368, 0.7935525925092263, 0.7935340487773753, 0.9273479975743141, 0.373877068558646, 0.08308379301303245, 0.540044654584711, 0.3598027395688689, 0.2398684930459126, 0.38978630119960794, 0.9410026119420093, 0.7569473133769345, 0.7935582496916809, 0.966894051009793, 0.1500515483344706, 0.7502577416723529, 0.7935466669846533, 0.4798022911232394, 0.39635841440615427, 0.12516581507562766, 0.7569520927884443, 0.9668887061549231, 0.8450554179356516, 0.8450534861538677, 0.15005143127652723, 0.7502571563826362, 0.7935417099623732, 0.8521288692707981, 0.02130322173176995, 0.10651610865884976, 0.9637159746579109, 0.020950347275171977, 0.020950347275171977, 0.987084360442186, 0.9273466630172573, 0.9273625141247686, 0.03175150496056509, 0.47627257440847637, 0.47627257440847637, 0.7935438380737967, 0.9783730780338262, 0.9154350478306692, 0.9848866930091823, 0.9840356157041816, 0.7935393576857163, 0.7935612546282969, 0.7935322639488078, 0.16745240178060242, 0.8372620089030121, 0.7569545959901296, 0.7935507677937945, 0.15344170500239343, 0.07672085250119672, 0.7672085250119672, 0.28324608546653934, 0.14162304273326967, 0.6373036922997136, 0.9849017984202815, 0.9902463827969775, 0.8764126511513389, 0.10955158139391737, 0.8561763690465928, 0.8450764464999199, 0.954658045303949, 0.23268933733898559, 0.7756311244632853, 0.971307660289829, 0.8245752015166288, 0.048504423618625225, 0.09700884723725045, 0.793543858875545, 0.7935439219753782, 0.10653988510541178, 0.9055890233960001, 0.7569514740477645, 0.8588962331589687, 0.10104661566576102, 0.8450806110547794, 0.7569887967630249, 0.08819404198946691, 0.9071387176059453, 0.7569442515305529, 1.0001222525357554, 0.7935398421756259, 0.8450334531947328, 0.9410030743109119, 0.7935433599808919, 0.6411685966163878, 0.05828805423785344, 0.3205842983081939, 0.9964984401558935, 0.1943495581422935, 0.5830486744268805, 0.22674115116600907, 0.11168346487418664, 0.8934677189934931, 0.7935448018396061, 0.9871218003393578, 1.0120152986444597, 0.396339982665509, 0.14862749349956586, 0.4458824804986976, 0.7569461840955393, 0.7935482833111266, 1.0108261384503743, 0.7935467425637702, 0.9546776111566824, 0.793541346653833, 0.7935509497150415, 0.9788764615211063, 0.9448312855287785, 0.4525651738179288, 0.1697119401817233, 0.36770920372706717, 1.0107673371064148, 0.756999001326852, 0.7935332373746062, 0.7935505970532593, 0.7569887545548791, 0.563996020192878, 0.35249751262054874, 0.07049950252410975, 0.9154204176459034, 0.793543882264004, 0.9978886682119178, 0.8450463692511481, 0.7935460603029606, 0.7569751335215437, 0.9448376639816872, 0.7569567408876897, 0.9580071363217895, 0.056353360960105264, 0.7935518539755617, 0.9086301409285521, 0.7935500756095649, 0.9154929943867426, 0.0538525290815731, 0.16946875901541264, 0.8473437950770631, 0.7935437867369667, 1.0107595203014357, 0.9410287753744404, 0.7935481694295635, 0.9969127598482422, 0.9455906492029398, 0.059099415575183736, 0.7935524615685966, 0.8985457770194843, 0.06418184121567745, 0.793549083940517, 0.9872408943607608, 0.16474194558562982, 0.6040538004806427, 0.21965592744750645, 0.14847653678464948, 0.7423826839232474, 0.7935465559305098, 0.3222919694585173, 0.6403432551083699, 0.038166154277982305, 0.7935508591765426, 0.9626099638700404, 0.7935476693282723, 0.845049896404013, 1.0044950780591018, 0.26871149627589697, 0.13435574813794848, 0.6046008666207682, 0.08440156165652087, 0.7033463471376739, 0.22507083108405562, 0.09477551170105268, 0.8529796053094741, 0.9455151475324522, 0.059094696720778266, 0.9871697224122331, 0.7569911720790531, 0.7935527438510728, 0.8286102576915381, 0.14410613177244141, 0.036026532943110354, 0.7002676614028502, 0.02414716073802932, 0.28976592885635183, 0.39406933099107433, 0.16888685613903187, 0.45036494970408497, 0.966894645098404, 0.5298953075358305, 0.4592425998643864, 0.07269756185658008, 0.9450683041355411, 0.856741515389882, 0.12692466894664917, 0.9995545740426143, 0.7935540192536538, 0.7935433065508456, 0.9788845274382574, 0.13228709094122446, 0.13228709094122446, 0.6614354547061223, 0.9273415655314254, 0.8561638371814236, 0.7935504753816219, 0.9597553110104985, 0.9871507245608334, 0.7935547458224002, 0.8670589798346495, 0.05780393198897664, 0.05780393198897664, 0.9273313445121367, 0.4267439885498151, 0.5215759860053296, 0.04741599872775724, 0.9166374010901499, 0.06547410007786784, 0.9788788742137684, 0.8896558335387831, 0.11862077780517108, 0.845060591688863, 0.028363745250098646, 0.23636454375082205, 0.7374573765025648, 0.15919608721189, 0.2501652799043986, 0.5912997525013057, 0.7935545511058907, 0.7935441956306802, 0.9505869854641974, 0.06337246569761316, 0.9890975193587747, 0.7642230680370702, 0.2456431290119154, 1.0009316431953177, 0.7935387812308309, 0.46405145466775544, 0.5062379505466423, 0.04218649587888686, 0.2812970932974183, 0.6376067448074816, 0.07501255821264488, 0.7935475762583133], \"Term\": [\"000\", \"000\", \"000\", \"12400\", \"1835\", \"1870s\", \"1996\", \"2006\", \"430\", \"505382\", \"521\", \"accelerated\", \"adaptation\", \"advocated\", \"advocating\", \"aegis\", \"also\", \"also\", \"also\", \"although\", \"although\", \"although\", \"anachronistic\", \"analysis\", \"area\", \"area\", \"area\", \"aristotle\", \"army\", \"around\", \"around\", \"around\", \"arrangements\", \"arts\", \"arts\", \"arts\", \"autonomy\", \"awarded\", \"awarded\", \"b\", \"ba\", \"bachelor\", \"bachelor\", \"baden\", \"becoming\", \"belie\", \"benz\", \"boards\", \"bphil\", \"built\", \"cand\", \"cannstatt\", \"capital\", \"castle\", \"cathedral\", \"center\", \"century\", \"century\", \"century\", \"chairs\", \"charged\", \"cismontanes\", \"cities\", \"city\", \"city\", \"combination\", \"coming\", \"comparing\", \"completion\", \"complex\", \"component\", \"cop\", \"corporate\", \"countries\", \"countries\", \"course\", \"courses\", \"credits\", \"curriculum\", \"cycle\", \"deemed\", \"degree\", \"degree\", \"degrees\", \"degrees\", \"denominated\", \"destabilize\", \"determined\", \"discoveries\", \"district\", \"divergence\", \"doctor\", \"doctorandus\", \"duke\", \"e\", \"e\", \"early\", \"early\", \"early\", \"eberhard\", \"ecclipses\", \"ects\", \"education\", \"education\", \"education\", \"effort\", \"emergence\", \"eminently\", \"endeavors\", \"epistemological\", \"europe\", \"europe\", \"europe\", \"european\", \"european\", \"european\", \"examination\", \"exists\", \"experimentation\", \"famous\", \"fees\", \"fees\", \"fihri\", \"first\", \"first\", \"first\", \"fit\", \"former\", \"freedom\", \"galen\", \"generally\", \"generally\", \"geometry\", \"german\", \"german\", \"german\", \"germany\", \"germany\", \"germany\", \"graduates\", \"granting\", \"grants\", \"higher\", \"higher\", \"higher\", \"holder\", \"home\", \"honours\", \"humanism\", \"humanist\", \"humboldt\", \"hungry\", \"iberia\", \"ideas\", \"ideas\", \"impossible\", \"incipient\", \"institution\", \"institution\", \"institution\", \"institutions\", \"institutions\", \"institutions\", \"instruction\", \"integrated\", \"international\", \"international\", \"isbn\", \"islamic\", \"king\", \"knowledge\", \"knowledge\", \"largest\", \"later\", \"later\", \"later\", \"leadership\", \"lectured\", \"level\", \"level\", \"licenced\", \"local\", \"local\", \"logic\", \"lords\", \"m\", \"m\", \"m2\", \"ma\", \"madison\", \"madrasas\", \"magister\", \"managerialisation\", \"many\", \"many\", \"many\", \"master\", \"may\", \"may\", \"may\", \"medieval\", \"medieval\", \"metaphysics\", \"minimum\", \"model\", \"modern\", \"modern\", \"modern\", \"montenegro\", \"morocco\", \"msc\", \"murray\", \"museum\", \"nationally\", \"nationes\", \"nearby\", \"neckar\", \"new\", \"new\", \"new\", \"normally\", \"noting\", \"nui\", \"ny\", \"o\", \"one\", \"one\", \"one\", \"oxbridge\", \"parallel\", \"park\", \"perceived\", \"phase\", \"polish\", \"population\", \"position\", \"postgraduate\", \"postgraduate\", \"prelates\", \"press\", \"prince\", \"professional\", \"professional\", \"professors\", \"professors\", \"professorships\", \"programme\", \"programmes\", \"promoting\", \"qualification\", \"qualifications\", \"qualifications\", \"regardless\", \"region\", \"region\", \"represents\", \"requires\", \"research\", \"research\", \"research\", \"revolution\", \"revolution\", \"roy\", \"s\", \"s\", \"s\", \"samuel\", \"sc\", \"schleiermacher\", \"scholar\", \"scholars\", \"schools\", \"schools\", \"schools\", \"science\", \"science\", \"science\", \"scientific\", \"scientific\", \"scotland\", \"scotland\", \"sensu\", \"shortest\", \"signatory\", \"since\", \"since\", \"since\", \"state\", \"state\", \"state\", \"states\", \"states\", \"states\", \"station\", \"students\", \"students\", \"studies\", \"studies\", \"study\", \"study\", \"stuttgart\", \"suggest\", \"sustainable\", \"swabian\", \"teaching\", \"teaching\", \"teaching\", \"tended\", \"term\", \"text\", \"texts\", \"thesis\", \"toby\", \"today\", \"today\", \"today\", \"toward\", \"two\", \"two\", \"two\", \"uk\", \"uk\", \"ulrich\", \"undergraduate\", \"undergraduate\", \"understanding\", \"universities\", \"universities\", \"universities\", \"university\", \"university\", \"university\", \"utility\", \"viability\", \"war\", \"war\", \"wine\", \"world\", \"world\", \"w\\u00fcrttemberg\", \"xavier\", \"year\", \"year\", \"year\", \"years\", \"years\", \"years\", \"york\"]}, \"R\": 30, \"lambda.step\": 0.01, \"plot.opts\": {\"xlab\": \"PC1\", \"ylab\": \"PC2\"}, \"topic.order\": [2, 5, 3, 4, 1]};\n",
       "\n",
       "function LDAvis_load_lib(url, callback){\n",
       "  var s = document.createElement('script');\n",
       "  s.src = url;\n",
       "  s.async = true;\n",
       "  s.onreadystatechange = s.onload = callback;\n",
       "  s.onerror = function(){console.warn(\"failed to load library \" + url);};\n",
       "  document.getElementsByTagName(\"head\")[0].appendChild(s);\n",
       "}\n",
       "\n",
       "if(typeof(LDAvis) !== \"undefined\"){\n",
       "   // already loaded: just create the visualization\n",
       "   !function(LDAvis){\n",
       "       new LDAvis(\"#\" + \"ldavis_el148802162163159832205677872\", ldavis_el148802162163159832205677872_data);\n",
       "   }(LDAvis);\n",
       "}else if(typeof define === \"function\" && define.amd){\n",
       "   // require.js is available: use it to load d3/LDAvis\n",
       "   require.config({paths: {d3: \"https://cdnjs.cloudflare.com/ajax/libs/d3/3.5.5/d3.min\"}});\n",
       "   require([\"d3\"], function(d3){\n",
       "      window.d3 = d3;\n",
       "      LDAvis_load_lib(\"https://cdn.rawgit.com/bmabey/pyLDAvis/files/ldavis.v1.0.0.js\", function(){\n",
       "        new LDAvis(\"#\" + \"ldavis_el148802162163159832205677872\", ldavis_el148802162163159832205677872_data);\n",
       "      });\n",
       "    });\n",
       "}else{\n",
       "    // require.js not available: dynamically load d3 & LDAvis\n",
       "    LDAvis_load_lib(\"https://cdnjs.cloudflare.com/ajax/libs/d3/3.5.5/d3.min.js\", function(){\n",
       "         LDAvis_load_lib(\"https://cdn.rawgit.com/bmabey/pyLDAvis/files/ldavis.v1.0.0.js\", function(){\n",
       "                 new LDAvis(\"#\" + \"ldavis_el148802162163159832205677872\", ldavis_el148802162163159832205677872_data);\n",
       "            })\n",
       "         });\n",
       "}\n",
       "</script>"
      ],
      "text/plain": [
       "<IPython.core.display.HTML object>"
      ]
     },
     "execution_count": 7,
     "metadata": {},
     "output_type": "execute_result"
    }
   ],
   "source": [
    "import pyLDAvis.gensim\n",
    "pyLDAvis.enable_notebook()\n",
    "\n",
    "vis_data = pyLDAvis.gensim.prepare(ldamodel, corpus, dictionary)\n",
    "pyLDAvis.display(vis_data)"
   ]
  }
 ],
 "metadata": {
  "kernelspec": {
   "display_name": "Python 3",
   "language": "python",
   "name": "python3"
  },
  "language_info": {
   "codemirror_mode": {
    "name": "ipython",
    "version": 3
   },
   "file_extension": ".py",
   "mimetype": "text/x-python",
   "name": "python",
   "nbconvert_exporter": "python",
   "pygments_lexer": "ipython3",
   "version": "3.6.3"
  }
 },
 "nbformat": 4,
 "nbformat_minor": 2
}
